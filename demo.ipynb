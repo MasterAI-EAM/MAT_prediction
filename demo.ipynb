{
 "cells": [
  {
   "cell_type": "code",
   "execution_count": 4,
   "id": "aa0bd1f3-1003-40a3-acbb-45fa3f9ab946",
   "metadata": {},
   "outputs": [
    {
     "name": "stderr",
     "output_type": "stream",
     "text": [
      "You try to use a model that was created with version 2.6.1, however, your version is 2.6.0. This might cause unexpected behavior or errors. In that case, try to update to the latest version.\n",
      "\n",
      "\n",
      "\n"
     ]
    },
    {
     "name": "stdout",
     "output_type": "stream",
     "text": [
      "(768,)\n",
      "(3, 768)\n"
     ]
    }
   ],
   "source": [
    "# pip install -U sentence-transformers\n",
    "from sentence_transformers import SentenceTransformer\n",
    "\n",
    "# load the model from your path\n",
    "model_path = 'outputs/SentMatBERT_MNR'\n",
    "model = SentenceTransformer(model_path)\n",
    "\n",
    "# model.encode() for generating sentence embeddings\n",
    "embedding = model.encode('thermoelectric')\n",
    "print(embedding.shape)\n",
    "embeddings = model.encode(['this is a sentence', 'this is another sentence', 'sentences in a list as input'])\n",
    "print(embeddings.shape)\n",
    "\n",
    "# model.fit() for further finetuning\n",
    "# help(model.fit)"
   ]
  },
  {
   "cell_type": "code",
   "execution_count": null,
   "id": "c18f6a38-333c-4989-907e-149ee45c69ba",
   "metadata": {},
   "outputs": [],
   "source": []
  }
 ],
 "metadata": {
  "kernelspec": {
   "display_name": "Python 3 (ipykernel)",
   "language": "python",
   "name": "python3"
  },
  "language_info": {
   "codemirror_mode": {
    "name": "ipython",
    "version": 3
   },
   "file_extension": ".py",
   "mimetype": "text/x-python",
   "name": "python",
   "nbconvert_exporter": "python",
   "pygments_lexer": "ipython3",
   "version": "3.9.18"
  }
 },
 "nbformat": 4,
 "nbformat_minor": 5
}
