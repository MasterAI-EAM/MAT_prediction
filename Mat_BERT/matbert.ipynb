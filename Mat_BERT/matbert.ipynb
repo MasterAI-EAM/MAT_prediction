{
 "cells": [
  {
   "cell_type": "code",
   "execution_count": 1,
   "metadata": {},
   "outputs": [
    {
     "name": "stderr",
     "output_type": "stream",
     "text": [
      "/Users/kelu/anaconda3/envs/bert/lib/python3.11/site-packages/tqdm/auto.py:21: TqdmWarning: IProgress not found. Please update jupyter and ipywidgets. See https://ipywidgets.readthedocs.io/en/stable/user_install.html\n",
      "  from .autonotebook import tqdm as notebook_tqdm\n"
     ]
    }
   ],
   "source": [
    "import pandas as pd\n",
    "from scipy.spatial.distance import cosine\n",
    "from scipy import stats\n",
    "import torch\n",
    "from transformers import BertTokenizerFast, BertForMaskedLM\n",
    "import matplotlib.pyplot as plt"
   ]
  },
  {
   "cell_type": "code",
   "execution_count": 3,
   "metadata": {},
   "outputs": [],
   "source": [
    "# MatBERT\n",
    "tokenizer = BertTokenizerFast.from_pretrained('MatBERT/matbert-base-cased', do_lower_case=False)\n",
    "model = BertForMaskedLM.from_pretrained('MatBERT/matbert-base-cased', output_hidden_states=True).eval()"
   ]
  },
  {
   "cell_type": "code",
   "execution_count": 24,
   "metadata": {},
   "outputs": [],
   "source": [
    "def get_embedding(text, tokenizer, model):\n",
    "    tokenized_text = tokenizer.tokenize(text)\n",
    "    indexed_tokens = tokenizer.convert_tokens_to_ids(tokenized_text)\n",
    "    tokens_tensor = torch.tensor([indexed_tokens])\n",
    "    with torch.no_grad():\n",
    "        outputs = model(tokens_tensor)\n",
    "        hidden_state = outputs[0]\n",
    "    embedding = hidden_state[0].mean(dim=0)\n",
    "    return embedding.numpy()"
   ]
  },
  {
   "cell_type": "code",
   "execution_count": 49,
   "metadata": {},
   "outputs": [],
   "source": [
    "file_path = 'dataset/thermoelectric_dft/'\n",
    "file_name = 'dft.txt'"
   ]
  },
  {
   "cell_type": "code",
   "execution_count": 50,
   "metadata": {},
   "outputs": [],
   "source": [
    "df = pd.read_csv(file_path + file_name, sep='\\t', header=None, names=['name', 'value'])"
   ]
  },
  {
   "cell_type": "code",
   "execution_count": 51,
   "metadata": {},
   "outputs": [],
   "source": [
    "thermoelectric_embedding = get_embedding(\"thermoelectric\", tokenizer, model)\n",
    "\n",
    "def compute_similarities_and_ranks(df):\n",
    "    df['similarity'] = df['name'].apply(lambda x: 1 - cosine(get_embedding(x, tokenizer, model), thermoelectric_embedding))\n",
    "    df['value_rank'] = df['value'].rank(ascending=False)\n",
    "    df['similarity_rank'] = df['similarity'].rank(ascending=False)\n",
    "    return df"
   ]
  },
  {
   "cell_type": "code",
   "execution_count": 52,
   "metadata": {},
   "outputs": [],
   "source": [
    "df = compute_similarities_and_ranks(df)"
   ]
  },
  {
   "cell_type": "code",
   "execution_count": 53,
   "metadata": {},
   "outputs": [],
   "source": [
    "df.to_csv(file_path + 'matbert_' + file_name, encoding='utf-8', index=False)"
   ]
  },
  {
   "cell_type": "code",
   "execution_count": 54,
   "metadata": {},
   "outputs": [
    {
     "name": "stdout",
     "output_type": "stream",
     "text": [
      "             name  value_rank  similarity_rank\n",
      "0        Lu2Sn2O7         1.0           7047.0\n",
      "1            B4O2         2.0           1450.0\n",
      "2            GeTe         3.0           3634.0\n",
      "3       Pd(NN)2Pd         4.0            320.0\n",
      "4           Yb2S3         5.0           3914.0\n",
      "...           ...         ...              ...\n",
      "9478    Ce(ClO4)3      9479.0            541.0\n",
      "9479        HfNi5      9480.0           2198.0\n",
      "9480       H2S2O7      9481.0           5579.0\n",
      "9481      K5V3F14      9482.0           3004.0\n",
      "9482  CeCl3(H2O)7      9483.0            843.0\n",
      "\n",
      "[9483 rows x 3 columns]\n"
     ]
    }
   ],
   "source": [
    "print(df[['name', 'value_rank', 'similarity_rank']])"
   ]
  },
  {
   "cell_type": "code",
   "execution_count": 55,
   "metadata": {},
   "outputs": [
    {
     "data": {
      "text/plain": [
       "-0.02982334608655128"
      ]
     },
     "execution_count": 55,
     "metadata": {},
     "output_type": "execute_result"
    }
   ],
   "source": [
    "res = stats.spearmanr(df['value_rank'], df['similarity_rank'])\n",
    "res.statistic"
   ]
  },
  {
   "cell_type": "code",
   "execution_count": null,
   "metadata": {},
   "outputs": [],
   "source": [
    "df.plot(x='name', y='similarity_rank', kind='bar', figsize=(10, 6))"
   ]
  },
  {
   "cell_type": "markdown",
   "metadata": {},
   "source": [
    "experiment_pf: -0.10094247288823806"
   ]
  },
  {
   "cell_type": "code",
   "execution_count": null,
   "metadata": {},
   "outputs": [],
   "source": [
    "experiment_zt: -0.034989962282081795"
   ]
  },
  {
   "cell_type": "markdown",
   "metadata": {},
   "source": [
    "dft: -0.02982334608655128"
   ]
  }
 ],
 "metadata": {
  "kernelspec": {
   "display_name": "look",
   "language": "python",
   "name": "python3"
  },
  "language_info": {
   "codemirror_mode": {
    "name": "ipython",
    "version": 3
   },
   "file_extension": ".py",
   "mimetype": "text/x-python",
   "name": "python",
   "nbconvert_exporter": "python",
   "pygments_lexer": "ipython3",
   "version": "3.11.5"
  },
  "orig_nbformat": 4
 },
 "nbformat": 4,
 "nbformat_minor": 2
}
